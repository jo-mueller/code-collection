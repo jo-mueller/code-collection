{
 "cells": [
  {
   "cell_type": "code",
   "execution_count": 1,
   "metadata": {},
   "outputs": [],
   "source": [
    "from dask.distributed import Client, get_client\n",
    "import numpy as np\n",
    "import time\n",
    "from scipy.interpolate import RegularGridInterpolator"
   ]
  },
  {
   "attachments": {},
   "cell_type": "markdown",
   "metadata": {},
   "source": [
    "We generate a few functions which we make artifically slow: "
   ]
  },
  {
   "cell_type": "code",
   "execution_count": 2,
   "metadata": {},
   "outputs": [],
   "source": [
    "def slow_function_for_sqrt(x: float, time_to_sleep: float =5) -> float:\n",
    "    time.sleep(time_to_sleep)\n",
    "    return np.sqrt(x)\n",
    "\n",
    "def slow_function_for_add(x: float, y: float, time_to_sleep: float =5) -> float:\n",
    "    time.sleep(time_to_sleep)\n",
    "    return x + y\n",
    "\n",
    "def slow_function_for_sub(x: float, y: float, time_to_sleep: float =5) -> float:\n",
    "    time.sleep(time_to_sleep)\n",
    "    return x - y\n",
    "\n",
    "def slow_function_for_mul(x: float, y: float, time_to_sleep: float =5) -> float:\n",
    "    time.sleep(time_to_sleep)\n",
    "    return x * y"
   ]
  },
  {
   "attachments": {},
   "cell_type": "markdown",
   "metadata": {},
   "source": [
    "## Process jobs with `map`\n",
    "\n",
    "In this scenario, we want to map a function over a list of inputs with dask. We can do this with the `map` method of the client. The `Client` class provides an instance of a local cluter to which jobs can be submitted. It also automatically spwans a status page which you can view in your browser. (`https://localhost:8787/status`)."
   ]
  },
  {
   "cell_type": "code",
   "execution_count": 3,
   "metadata": {},
   "outputs": [],
   "source": [
    "client = Client()"
   ]
  },
  {
   "attachments": {},
   "cell_type": "markdown",
   "metadata": {},
   "source": [
    "The `map` function takes a function and a list of arguments. It returns a list of futures, which are objects that represent the result of the computation. The futures can be used to get the result of the computation, or to wait for the computation to finish."
   ]
  },
  {
   "cell_type": "code",
   "execution_count": 4,
   "metadata": {},
   "outputs": [
    {
     "data": {
      "text/plain": [
       "[<Future: pending, key: slow_function_for_sqrt-4827e73542353c207e6923c087cf87b5>,\n",
       " <Future: pending, key: slow_function_for_sqrt-d3cde674842c0dcdb35485f164d0d744>,\n",
       " <Future: pending, key: slow_function_for_sqrt-d9b57d474a1081519b039fc997f97bf0>]"
      ]
     },
     "execution_count": 4,
     "metadata": {},
     "output_type": "execute_result"
    }
   ],
   "source": [
    "results = client.map(slow_function_for_sqrt, [1, 2, 3])\n",
    "results"
   ]
  },
  {
   "attachments": {},
   "cell_type": "markdown",
   "metadata": {},
   "source": [
    "If we check again a brief moment later, we see that the computation has finished. We can get the result of the computation with the `result` method of the future."
   ]
  },
  {
   "cell_type": "code",
   "execution_count": 6,
   "metadata": {},
   "outputs": [
    {
     "data": {
      "text/plain": [
       "[<Future: finished, type: numpy.float64, key: slow_function_for_sqrt-4827e73542353c207e6923c087cf87b5>,\n",
       " <Future: finished, type: numpy.float64, key: slow_function_for_sqrt-d3cde674842c0dcdb35485f164d0d744>,\n",
       " <Future: finished, type: numpy.float64, key: slow_function_for_sqrt-d9b57d474a1081519b039fc997f97bf0>]"
      ]
     },
     "execution_count": 6,
     "metadata": {},
     "output_type": "execute_result"
    }
   ],
   "source": [
    "results"
   ]
  },
  {
   "attachments": {},
   "cell_type": "markdown",
   "metadata": {},
   "source": [
    "We can retrieve the results of all the futures with the `gather` method of the client. This method takes a list of futures and returns a list of results."
   ]
  },
  {
   "cell_type": "code",
   "execution_count": 7,
   "metadata": {},
   "outputs": [
    {
     "data": {
      "text/plain": [
       "[1.0, 1.4142135623730951, 1.7320508075688772]"
      ]
     },
     "execution_count": 7,
     "metadata": {},
     "output_type": "execute_result"
    }
   ],
   "source": [
    "client.gather(results)"
   ]
  },
  {
   "attachments": {},
   "cell_type": "markdown",
   "metadata": {},
   "source": [
    "## Process jobs with `submit`\n",
    "\n",
    "The key difference of using `submit` instead of `map` is that `submit` returns a future immediately, while `map` returns a list of futures. This means that we can submit jobs to the cluster before all the previous jobs have finished. This is useful if we want to submit jobs to the cluster as soon as they are available.\n",
    "\n",
    "*Note*: Some of the results immediately show up as `finished` here: Obviously, `dask` detects that we are using the same function and arguments multiple times and only submits the job once."
   ]
  },
  {
   "cell_type": "code",
   "execution_count": 8,
   "metadata": {},
   "outputs": [
    {
     "data": {
      "text/plain": [
       "[<Future: pending, key: slow_function_for_sqrt-d24f4a7f3bcec3d53cd819b65117791e>,\n",
       " <Future: finished, type: numpy.float64, key: slow_function_for_sqrt-4827e73542353c207e6923c087cf87b5>,\n",
       " <Future: finished, type: numpy.float64, key: slow_function_for_sqrt-d3cde674842c0dcdb35485f164d0d744>,\n",
       " <Future: finished, type: numpy.float64, key: slow_function_for_sqrt-d9b57d474a1081519b039fc997f97bf0>,\n",
       " <Future: pending, key: slow_function_for_sqrt-ab474183c25d3b7b0abbccb62a550dd7>,\n",
       " <Future: pending, key: slow_function_for_sqrt-c5ec33eacea3351318da9538aa8e2ba0>,\n",
       " <Future: pending, key: slow_function_for_sqrt-4f609e3b7340ada35ca483fd32f88970>,\n",
       " <Future: pending, key: slow_function_for_sqrt-13251970827e547145c30a0a810b2dba>,\n",
       " <Future: pending, key: slow_function_for_sqrt-dde763564b9f6bf61a68c23c5fc458e6>,\n",
       " <Future: pending, key: slow_function_for_sqrt-5226d671ad1f0d899d6bd01db9b5c7a5>]"
      ]
     },
     "execution_count": 8,
     "metadata": {},
     "output_type": "execute_result"
    }
   ],
   "source": [
    "results = []\n",
    "for x in range(10):\n",
    "    results.append(client.submit(slow_function_for_sqrt, x))\n",
    "results"
   ]
  },
  {
   "attachments": {},
   "cell_type": "markdown",
   "metadata": {},
   "source": [
    "This is super helpful if we want to pass the results of one computation to another computation. For example, we can use the results of the previous computation to compute the sum of the squares of the numbers."
   ]
  },
  {
   "cell_type": "code",
   "execution_count": 9,
   "metadata": {},
   "outputs": [
    {
     "data": {
      "text/plain": [
       "[<Future: pending, key: slow_function_for_add-54fe4748df0218e325300b3d5cfa211a>,\n",
       " <Future: pending, key: slow_function_for_add-3f1e322be0116aa85d38c2ecbcd52648>,\n",
       " <Future: pending, key: slow_function_for_add-9c665519553c6b36ccc52415d7b5a68b>,\n",
       " <Future: pending, key: slow_function_for_add-a92a563c83173603a83973215f30b811>,\n",
       " <Future: pending, key: slow_function_for_add-f1471d0df2f606965f22cec45499c711>,\n",
       " <Future: pending, key: slow_function_for_add-f10c088c6cf9c7873efe34130f2830c5>,\n",
       " <Future: pending, key: slow_function_for_add-921c9e905fca9cb6a9bb508e3197d474>,\n",
       " <Future: pending, key: slow_function_for_add-5893cda9d4ce50192fe85cb68c2b811d>,\n",
       " <Future: pending, key: slow_function_for_add-8412d555081d8d1ebc78f157f4e7071f>,\n",
       " <Future: pending, key: slow_function_for_add-e4d42a85df022613ce669f8224f91b6d>]"
      ]
     },
     "execution_count": 9,
     "metadata": {},
     "output_type": "execute_result"
    }
   ],
   "source": [
    "results = []\n",
    "for x in range(10):\n",
    "    \n",
    "    # calculate square root and square\n",
    "    square_root = client.submit(slow_function_for_sqrt, x)\n",
    "    square = client.submit(slow_function_for_mul, x, x)\n",
    "\n",
    "    # calculate square root + square\n",
    "    results.append(client.submit(slow_function_for_add, square_root, square))\n",
    "results"
   ]
  },
  {
   "attachments": {},
   "cell_type": "markdown",
   "metadata": {},
   "source": [
    "## Catching errors\n",
    "\n",
    "One intriguing feature of using dask to process big amounts of data, is that we can catch errors and continue processing the rest of the data. We can demonstrate this by passing some negative values to the functions we created above, among which the `sqrt` function will raise an error. To demonstrate this, we have to modify one of the functions above:"
   ]
  },
  {
   "cell_type": "code",
   "execution_count": 10,
   "metadata": {},
   "outputs": [],
   "source": [
    "def slow_function_for_sqrt(x: float, time_to_sleep: float =5) -> float:\n",
    "    time.sleep(time_to_sleep)\n",
    "    if x < 0:\n",
    "        raise ValueError(\"x must be positive\")\n",
    "    return np.sqrt(x)"
   ]
  },
  {
   "cell_type": "code",
   "execution_count": 12,
   "metadata": {},
   "outputs": [],
   "source": [
    "results = []\n",
    "for x in range(-2, 10):\n",
    "    \n",
    "    # calculate square root and square\n",
    "    square_root = client.submit(slow_function_for_sqrt, x)\n",
    "    square = client.submit(slow_function_for_mul, x, x)\n",
    "\n",
    "    # calculate square root + square\n",
    "    results.append(client.submit(slow_function_for_add, square_root, square))"
   ]
  },
  {
   "cell_type": "code",
   "execution_count": 14,
   "metadata": {},
   "outputs": [
    {
     "data": {
      "text/plain": [
       "[<Future: error, key: slow_function_for_add-d15ecd5f3e59bc81c64e8d8bd54bfcf5>,\n",
       " <Future: error, key: slow_function_for_add-f0e21b48504a6b412d640d6a046cbb31>,\n",
       " <Future: finished, type: numpy.float64, key: slow_function_for_add-757441b4c19ca7a4671e18f2f7804c27>,\n",
       " <Future: finished, type: numpy.float64, key: slow_function_for_add-de5787ab9e2771dec32a7e1bfe35a34d>,\n",
       " <Future: finished, type: numpy.float64, key: slow_function_for_add-f1f95fa54c21489b9c10157f2fbd61d8>,\n",
       " <Future: finished, type: numpy.float64, key: slow_function_for_add-508a80244946e066568a369448c355cc>,\n",
       " <Future: finished, type: numpy.float64, key: slow_function_for_add-048b854e8162512061216a24f7c41232>,\n",
       " <Future: finished, type: numpy.float64, key: slow_function_for_add-db8b30ca43a8ccfd9352c69db8672089>,\n",
       " <Future: finished, type: numpy.float64, key: slow_function_for_add-5a513bf5b05ac474b1f44eb84d627c82>,\n",
       " <Future: finished, type: numpy.float64, key: slow_function_for_add-7eea42c67d1f806d5a8fc9496b445951>,\n",
       " <Future: finished, type: numpy.float64, key: slow_function_for_add-9152457b764ceb391fb9f08dbf04c9c8>,\n",
       " <Future: finished, type: numpy.float64, key: slow_function_for_add-34c3a7774e2c620c72fad9d910de5ab2>]"
      ]
     },
     "execution_count": 14,
     "metadata": {},
     "output_type": "execute_result"
    }
   ],
   "source": [
    "results"
   ]
  },
  {
   "attachments": {},
   "cell_type": "markdown",
   "metadata": {},
   "source": [
    "## Process functions with multiple arguments\n",
    "\n",
    "We can also process functions with multiple arguments with `map` and `submit`. To demonstrate this in a more practical scenario, we show how to interpolate an image with `scipy.interpolate.RegularGridInterpolator`. We first create a function which takes a list of coordinates and returns the interpolated values at those coordinates."
   ]
  },
  {
   "cell_type": "code",
   "execution_count": 15,
   "metadata": {},
   "outputs": [],
   "source": [
    "def interpolate_at_point(image: np.ndarray, coordinate: np.ndarray, interpolation_method='nearest') -> float:\n",
    "    interpolator = RegularGridInterpolator((np.arange(1000), np.arange(1000)), image, method=interpolation_method)\n",
    "    time.sleep(2)\n",
    "    return interpolator(coordinate)"
   ]
  },
  {
   "attachments": {},
   "cell_type": "markdown",
   "metadata": {},
   "source": [
    "We also create some radom data: A `1000x1000` image with random values between `0` and `1` and a list of `300` random coordinates at which we want to interpolate the image."
   ]
  },
  {
   "cell_type": "code",
   "execution_count": 16,
   "metadata": {},
   "outputs": [],
   "source": [
    "image = np.random.random(size=(1000, 1000))\n",
    "sampling_coordinates = np.random.random(size=(300, 2)) * 1000"
   ]
  },
  {
   "attachments": {},
   "cell_type": "markdown",
   "metadata": {},
   "source": [
    "With `client.submit`, we can submit the interpolation job to the cluster. To each call, we can pass a modified set of arguments and keyword arguments using the splash-operator (`*` and `**`):\n",
    "\n",
    "`client.submit(function, *arguments, **keyword_arguments)`"
   ]
  },
  {
   "cell_type": "code",
   "execution_count": 17,
   "metadata": {},
   "outputs": [
    {
     "name": "stderr",
     "output_type": "stream",
     "text": [
      "c:\\Users\\johamuel\\Anaconda3\\envs\\stress\\lib\\site-packages\\distributed\\worker.py:3039: UserWarning: Large object of size 7.63 MiB detected in task graph: \n",
      "  [array([[0.36043388, 0.09493973, 0.18830925, ...,  ... 934.52816074])]\n",
      "Consider scattering large objects ahead of time\n",
      "with client.scatter to reduce scheduler burden and \n",
      "keep data on workers\n",
      "\n",
      "    future = client.submit(func, big_data)    # bad\n",
      "\n",
      "    big_future = client.scatter(big_data)     # good\n",
      "    future = client.submit(func, big_future)  # good\n",
      "  warnings.warn(\n"
     ]
    }
   ],
   "source": [
    "results = []\n",
    "for idx, coordinate in enumerate(sampling_coordinates):\n",
    "    arguments = (image, coordinate)\n",
    "    \n",
    "    # use different interpolation methods for every second point\n",
    "    if idx % 2 == 0:\n",
    "        keyword_arguments = {'interpolation_method': 'nearest'}\n",
    "    else:\n",
    "        keyword_arguments = {'interpolation_method': 'linear'}\n",
    "\n",
    "    results.append(client.submit(interpolate_at_point, *arguments, **keyword_arguments))"
   ]
  },
  {
   "attachments": {},
   "cell_type": "markdown",
   "metadata": {},
   "source": [
    "We can also use `client.map` to submit jobs with multiple arguments. Note that we don't need to repeat the keyword arguments n times; We can spceify them once and they will be passed to each call of the function."
   ]
  },
  {
   "cell_type": "code",
   "execution_count": 18,
   "metadata": {},
   "outputs": [],
   "source": [
    "# Copy the arguments and keyword arguments n times:\n",
    "arguments = ([image] * len(sampling_coordinates), sampling_coordinates)\n",
    "keyword_arguments = {'interpolation_method': 'nearest'}\n",
    "\n",
    "# Submit the job\n",
    "results = client.map(interpolate_at_point,  *arguments, **keyword_arguments)\n",
    "results = client.gather(results)"
   ]
  },
  {
   "attachments": {},
   "cell_type": "markdown",
   "metadata": {},
   "source": [
    "## Scattering data\n",
    "\n",
    "For this, we receive warnings that we should use `client.scatter`. This is the case if the data we want to pass to every job is relatively \"large\". We can use `client.scatter` to distribute the data to the workers rather than putting it into our local memory. This method returns a list of futures, which we can use to get the distributed data. The key difference between using `.scatter` or avoiding this is the following:\n",
    "\n",
    "* With `scatter`: The data is distributed to the workers and the workers can access the data directly.\n",
    "* Without `scatter`: The data is first loaded into the local memory of the client and afterwards distributed to the workers. Hence, the data needs to be loaded twice."
   ]
  },
  {
   "cell_type": "code",
   "execution_count": 19,
   "metadata": {},
   "outputs": [],
   "source": [
    "results = []\n",
    "for coordinate in sampling_coordinates:\n",
    "    image_future = client.scatter(image)\n",
    "    results.append(client.submit(interpolate_at_point, image_future, coordinate))"
   ]
  },
  {
   "attachments": {},
   "cell_type": "markdown",
   "metadata": {},
   "source": [
    "## Sending jobs to a client from within a function\n",
    "\n",
    "In some scenarios, we want to send jobs to a worker from a namespace where we do not have access to the `client`. In this case, we can retrieve the `client` with the `get_client` function (Example taken from [here](https://distributed.dask.org/en/stable/task-launch.html?highlight=delayed#dask-delayed))"
   ]
  },
  {
   "cell_type": "code",
   "execution_count": 20,
   "metadata": {},
   "outputs": [],
   "source": [
    "def fibonacci(number_of_iterations: int):\n",
    "    if number_of_iterations < 2:\n",
    "        return number_of_iterations\n",
    "    client = get_client()\n",
    "    a_future = client.submit(fibonacci, number_of_iterations - 1)\n",
    "    b_future = client.submit(fibonacci, number_of_iterations - 2)\n",
    "    a, b = client.gather([a_future, b_future])\n",
    "    time.sleep(5)\n",
    "    return a + b"
   ]
  },
  {
   "cell_type": "code",
   "execution_count": 21,
   "metadata": {},
   "outputs": [],
   "source": [
    "future = client.submit(fibonacci, 10)"
   ]
  },
  {
   "cell_type": "code",
   "execution_count": null,
   "metadata": {},
   "outputs": [
    {
     "data": {
      "text/plain": [
       "55"
      ]
     },
     "execution_count": 22,
     "metadata": {},
     "output_type": "execute_result"
    },
    {
     "name": "stderr",
     "output_type": "stream",
     "text": [
      "2023-03-13 21:40:03,965 - distributed.scheduler - WARNING - Worker failed to heartbeat within 300 seconds. Closing: <WorkerState 'tcp://127.0.0.1:57385', name: 1, status: running, memory: 82, processing: 0>\n",
      "2023-03-13 21:40:03,990 - distributed.scheduler - WARNING - Worker failed to heartbeat within 300 seconds. Closing: <WorkerState 'tcp://127.0.0.1:57393', name: 0, status: running, memory: 85, processing: 8>\n",
      "2023-03-13 21:40:04,014 - distributed.scheduler - WARNING - Received heartbeat from unregistered worker 'tcp://127.0.0.1:57393'.\n",
      "2023-03-13 21:40:04,017 - distributed.scheduler - WARNING - Received heartbeat from unregistered worker 'tcp://127.0.0.1:57385'.\n",
      "2023-03-13 21:40:06,437 - distributed.nanny - WARNING - Restarting worker\n",
      "2023-03-13 21:40:06,441 - distributed.nanny - WARNING - Restarting worker\n"
     ]
    }
   ],
   "source": [
    "client.gather(future)"
   ]
  }
 ],
 "metadata": {
  "kernelspec": {
   "display_name": "stress",
   "language": "python",
   "name": "python3"
  },
  "language_info": {
   "codemirror_mode": {
    "name": "ipython",
    "version": 3
   },
   "file_extension": ".py",
   "mimetype": "text/x-python",
   "name": "python",
   "nbconvert_exporter": "python",
   "pygments_lexer": "ipython3",
   "version": "3.9.16"
  },
  "orig_nbformat": 4,
  "vscode": {
   "interpreter": {
    "hash": "e94545d40d04f852d50c4a3e54178cb617d42c4dde55aeec8654f84a500b04b2"
   }
  }
 },
 "nbformat": 4,
 "nbformat_minor": 2
}
